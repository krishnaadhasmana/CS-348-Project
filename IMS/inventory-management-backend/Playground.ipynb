{
 "cells": [
  {
   "cell_type": "code",
   "execution_count": 31,
   "metadata": {},
   "outputs": [],
   "source": [
    "from flask import Flask, request, jsonify\n",
    "from pymongo import MongoClient\n",
    "client = MongoClient(\"localhost\", 27017)  # Localhost example\n",
    "db = client.Inventory  # Database name"
   ]
  },
  {
   "cell_type": "code",
   "execution_count": 32,
   "metadata": {},
   "outputs": [],
   "source": [
    "products_data = [\n",
    "    {\"product_id\": 1, \"name\": \"Laptop\", \"category\": \"Electronics\", \"price\": 1200, \"stock_level\": 30},\n",
    "    {\"product_id\": 2, \"name\": \"Smartphone\", \"category\": \"Electronics\", \"price\": 800, \"stock_level\": 50},\n",
    "    {\"product_id\": 3, \"name\": \"Coffee Maker\", \"category\": \"Home Appliances\", \"price\": 100, \"stock_level\": 40},\n",
    "    {\"product_id\": 4, \"name\": \"Headphones\", \"category\": \"Electronics\", \"price\": 50, \"stock_level\": 100}\n",
    "]\n",
    "\n",
    "# Sample data for Stores table\n",
    "stores_data = [\n",
    "    {\"store_id\": 1, \"name\": \"Downtown Store\", \"location\": \"123 Main St, Downtown\"},\n",
    "    {\"store_id\": 2, \"name\": \"Uptown Store\", \"location\": \"456 High St, Uptown\"},\n",
    "    {\"store_id\": 3, \"name\": \"Midtown Store\", \"location\": \"789 Mid St, Midtown\"}\n",
    "]\n",
    "\n",
    "# Sample data for Customers table\n",
    "customers_data = [\n",
    "    {\"customer_id\": 1, \"name\": \"Alice\", \"loyalty_points\": 120},\n",
    "    {\"customer_id\": 2, \"name\": \"Bob\", \"loyalty_points\": 30},\n",
    "    {\"customer_id\": 3, \"name\": \"Charlie\", \"loyalty_points\": 200},\n",
    "    {\"customer_id\": 4, \"name\": \"David\", \"loyalty_points\": 40},\n",
    "]\n",
    "\n",
    "# Sample data for Sales table\n",
    "sales_data = [\n",
    "    {\"transaction_id\": 1, \"product_id\": 1, \"quantity_sold\": 1, \"sale_date\": \"2024-03-25\", \"store_id\": 1, \"customer_id\": 1},\n",
    "    {\"transaction_id\": 2, \"product_id\": 2, \"quantity_sold\": 2, \"sale_date\": \"2024-03-25\", \"store_id\": 2, \"customer_id\": 2},\n",
    "    {\"transaction_id\": 3, \"product_id\": 3, \"quantity_sold\": 1, \"sale_date\": \"2024-03-26\", \"store_id\": 1, \"customer_id\": 1}\n",
    "]"
   ]
  },
  {
   "cell_type": "code",
   "execution_count": 33,
   "metadata": {},
   "outputs": [
    {
     "data": {
      "text/plain": [
       "InsertManyResult([ObjectId('66036edbb70f259680b646ad'), ObjectId('66036edbb70f259680b646ae'), ObjectId('66036edbb70f259680b646af')], acknowledged=True)"
      ]
     },
     "execution_count": 33,
     "metadata": {},
     "output_type": "execute_result"
    }
   ],
   "source": [
    "Products = db.products  # Collection name\n",
    "Stores = db.stores\n",
    "Customers = db.customers\n",
    "Sales = db.sales\n",
    "\n",
    "Products.insert_many(products_data)\n",
    "Stores.insert_many(stores_data)\n",
    "Customers.insert_many(customers_data)\n",
    "Sales.insert_many(sales_data)"
   ]
  }
 ],
 "metadata": {
  "kernelspec": {
   "display_name": "Python 3",
   "language": "python",
   "name": "python3"
  },
  "language_info": {
   "codemirror_mode": {
    "name": "ipython",
    "version": 3
   },
   "file_extension": ".py",
   "mimetype": "text/x-python",
   "name": "python",
   "nbconvert_exporter": "python",
   "pygments_lexer": "ipython3",
   "version": "3.9.13"
  }
 },
 "nbformat": 4,
 "nbformat_minor": 2
}
