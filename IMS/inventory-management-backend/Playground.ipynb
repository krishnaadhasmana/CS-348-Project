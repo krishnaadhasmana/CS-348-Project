{
 "cells": [
  {
   "cell_type": "code",
   "execution_count": 9,
   "metadata": {},
   "outputs": [],
   "source": [
    "from flask import Flask, request, jsonify\n",
    "from pymongo import MongoClient\n",
    "client = MongoClient(\"localhost\", 27017)  # Localhost example\n",
    "db = client.Inventory  # Database name"
   ]
  },
  {
   "cell_type": "code",
   "execution_count": 10,
   "metadata": {},
   "outputs": [],
   "source": [
    "products_data = [\n",
    "    {\"product_id\": 1, \"name\": \"Laptop\", \"category\": \"Electronics\", \"price\": 1200, \"stock_level\": 30},\n",
    "    {\"product_id\": 2, \"name\": \"Smartphone\", \"category\": \"Electronics\", \"price\": 800, \"stock_level\": 50},\n",
    "    {\"product_id\": 3, \"name\": \"Coffee Maker\", \"category\": \"Home Appliances\", \"price\": 100, \"stock_level\": 40},\n",
    "    {\"product_id\": 4, \"name\": \"Headphones\", \"category\": \"Electronics\", \"price\": 75, \"stock_level\": 100},\n",
    "    {\"product_id\": 5, \"name\": \"Monitor\", \"category\": \"Electronics\", \"price\": 300, \"stock_level\": 20},    \n",
    "]\n",
    "\n",
    "# Sample data for Stores table\n",
    "stores_data = [\n",
    "    {\"store_id\": 1, \"name\": \"Downtown Store\", \"location\": \"123 Main St, Downtown\"},\n",
    "    {\"store_id\": 2, \"name\": \"Uptown Store\", \"location\": \"456 High St, Uptown\"},\n",
    "    {\"store_id\": 3, \"name\": \"Midtown Store\", \"location\": \"789 Mid St, Midtown\"},\n",
    "]\n",
    "\n",
    "# Sample data for Customers table\n",
    "customers_data = [\n",
    "    {\"customer_id\": 1, \"name\": \"Alice\", \"loyalty_points\": 120},\n",
    "    {\"customer_id\": 2, \"name\": \"Bob\", \"loyalty_points\": 30},\n",
    "    {\"customer_id\": 3, \"name\": \"Charlie\", \"loyalty_points\": 200},\n",
    "    {\"customer_id\": 4, \"name\": \"David\", \"loyalty_points\": 40},\n",
    "]\n",
    "\n",
    "# Sample data for Sales table\n",
    "sales_data = [\n",
    "    {\"product_id\": 1, \"quantity_sold\": 1, \"sale_date\": \"2024-03-25\", \"store_id\": 1, \"customer_id\": 1},\n",
    "    {\"product_id\": 2, \"quantity_sold\": 2, \"sale_date\": \"2023-07-25\", \"store_id\": 2, \"customer_id\": 4},\n",
    "    {\"product_id\": 2, \"quantity_sold\": 1, \"sale_date\": \"2024-03-06\", \"store_id\": 1, \"customer_id\": 1},\n",
    "    {\"product_id\": 4, \"quantity_sold\": 1, \"sale_date\": \"2024-02-12\", \"store_id\": 3, \"customer_id\": 2},\n",
    "    {\"product_id\": 5, \"quantity_sold\": 3, \"sale_date\": \"2024-03-25\", \"store_id\": 3, \"customer_id\": 3},\n",
    "    {\"product_id\": 1, \"quantity_sold\": 1, \"sale_date\": \"2021-05-17\", \"store_id\": 1, \"customer_id\": 1},\n",
    "]"
   ]
  },
  {
   "cell_type": "code",
   "execution_count": 11,
   "metadata": {},
   "outputs": [
    {
     "data": {
      "text/plain": [
       "InsertManyResult([ObjectId('6608d7ddc1e76b087a022829'), ObjectId('6608d7ddc1e76b087a02282a'), ObjectId('6608d7ddc1e76b087a02282b'), ObjectId('6608d7ddc1e76b087a02282c'), ObjectId('6608d7ddc1e76b087a02282d'), ObjectId('6608d7ddc1e76b087a02282e')], acknowledged=True)"
      ]
     },
     "execution_count": 11,
     "metadata": {},
     "output_type": "execute_result"
    }
   ],
   "source": [
    "Products = db.products  # Collection name\n",
    "Stores = db.stores\n",
    "Customers = db.customers\n",
    "Sales = db.sales\n",
    "\n",
    "Products.insert_many(products_data)\n",
    "Stores.insert_many(stores_data)\n",
    "Customers.insert_many(customers_data)\n",
    "Sales.insert_many(sales_data)"
   ]
  }
 ],
 "metadata": {
  "kernelspec": {
   "display_name": "Python 3",
   "language": "python",
   "name": "python3"
  },
  "language_info": {
   "codemirror_mode": {
    "name": "ipython",
    "version": 3
   },
   "file_extension": ".py",
   "mimetype": "text/x-python",
   "name": "python",
   "nbconvert_exporter": "python",
   "pygments_lexer": "ipython3",
   "version": "3.9.13"
  }
 },
 "nbformat": 4,
 "nbformat_minor": 2
}
